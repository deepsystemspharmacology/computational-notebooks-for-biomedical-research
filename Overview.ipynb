{
 "cells": [
  {
   "cell_type": "markdown",
   "metadata": {
    "slideshow": {
     "slide_type": "slide"
    }
   },
   "source": [
    "## What are notebooks?"
   ]
  },
  {
   "cell_type": "markdown",
   "metadata": {
    "slideshow": {
     "slide_type": "fragment"
    }
   },
   "source": [
    "<link rel=\"stylesheet\" href=\"https://cdnjs.cloudflare.com/ajax/libs/font-awesome/5.14.0/css/regular.min.css\" integrity=\"sha512-qgtcTTDJDk6Fs9eNeN1tnuQwYjhnrJ8wdTVxJpUTkeafKKP6vprqRx5Sj/rB7Q57hoYDbZdtHR4krNZ/11zONg==\" crossorigin=\"anonymous\" />\n",
    "\n",
    "<div style=\"font-size: 20px\">\n",
    "\n",
    "<i class=\"fas fa-align-justify ic\"></i> text + <i class=\"fas fa-code\"></i> code + <i class=\"fas fa-photo-video\"></i> outputs = <img src=\"media/Jupyter_logo.svg\" width=20 style=\"position: relative; top: 5px; display: inline\"> notebook<br><br>\n",
    "\n",
    "<i class=\"fas fa-align-justify\"></i> text + <i class=\"fas fa-code\"></i> code = <img src=\"media/R_logo.svg\" width=25 style=\"display: inline\"> Markdown\n",
    "\n",
    "</div>"
   ]
  },
  {
   "cell_type": "markdown",
   "metadata": {
    "slideshow": {
     "slide_type": "fragment"
    }
   },
   "source": [
    "Showcase:\n",
    "- [Lung Cancer Post-Translational Modification and Gene Expression Regulation](https://nbviewer.jupyter.org/github/MaayanLab/CST_Lung_Cancer_Viz/blob/master/notebooks/CST_Data_Viz.ipynb?flush_cache=true) - heatmaps\n",
    "- [An open RNA-Seq data analysis pipeline tutorial with an example of reprocessing data from a recent Zika virus study\n",
    "](https://nbviewer.jupyter.org/github/maayanlab/Zika-RNAseq-Pipeline/blob/master/Zika.ipynb) - plotly\n",
    "- [Population Genetics in an RNA World](https://nbviewer.jupyter.org/github/gocarli/RNA-Popgen-Notebook/blob/master/Population_Genetics.ipynb) - equations\n",
    "\n",
    "For other examples from across various scientific disciplines check the [gallery of interesting Jupyter Notebooks](https://github.com/jupyter/jupyter/wiki/A-gallery-of-interesting-Jupyter-Notebooks)"
   ]
  },
  {
   "cell_type": "markdown",
   "metadata": {
    "slideshow": {
     "slide_type": "slide"
    }
   },
   "source": [
    "## Different kinds of notebooks"
   ]
  },
  {
   "cell_type": "markdown",
   "metadata": {
    "slideshow": {
     "slide_type": "subslide"
    }
   },
   "source": [
    "### R Markdown/R Notebook (RStudio)"
   ]
  },
  {
   "cell_type": "markdown",
   "metadata": {
    "slideshow": {
     "slide_type": "fragment"
    }
   },
   "source": [
    "- the two terms are almost identical when used **within RStudio**"
   ]
  },
  {
   "cell_type": "markdown",
   "metadata": {
    "slideshow": {
     "slide_type": "fragment"
    }
   },
   "source": [
    "- Markdown document with code"
   ]
  },
  {
   "cell_type": "markdown",
   "metadata": {
    "slideshow": {
     "slide_type": "fragment"
    }
   },
   "source": [
    "- outputs not saved with the notebook"
   ]
  },
  {
   "cell_type": "markdown",
   "metadata": {
    "slideshow": {
     "slide_type": "fragment"
    }
   },
   "source": [
    "- notebook together with outputs can be exported (\"knited\") to a number of different files types:\n",
    " - PDF\n",
    " - HTML\n",
    " - Word document "
   ]
  },
  {
   "cell_type": "markdown",
   "metadata": {
    "slideshow": {
     "slide_type": "fragment"
    }
   },
   "source": [
    "- predominantly R, other languages somewhat supported (e.g. Python with or without reticulate)"
   ]
  },
  {
   "cell_type": "markdown",
   "metadata": {
    "slideshow": {
     "slide_type": "fragment"
    }
   },
   "source": [
    "- tied to RStudio\n",
    "  - but can be rendered in any Markdown viewer!\n",
    "  - few other editors support R Markdown"
   ]
  },
  {
   "cell_type": "markdown",
   "metadata": {
    "slideshow": {
     "slide_type": "fragment"
    }
   },
   "source": [
    "- widgets: htmlwidgets (standalone) and shiny (reactive; dashboard server)"
   ]
  },
  {
   "cell_type": "markdown",
   "metadata": {
    "slideshow": {
     "slide_type": "subslide"
    }
   },
   "source": [
    "### Jupyter notebooks"
   ]
  },
  {
   "cell_type": "markdown",
   "metadata": {
    "slideshow": {
     "slide_type": "fragment"
    }
   },
   "source": [
    "- JSON file (needs a dedicated viewer)"
   ]
  },
  {
   "cell_type": "markdown",
   "metadata": {
    "slideshow": {
     "slide_type": "fragment"
    }
   },
   "source": [
    "- multiple language \"kernels\":\n",
    "  - JuPyteR = Julia, Python, R\n",
    "  - C++, Java, MATLAB, Perl, Scala, Mathematica & 135+ more  "
   ]
  },
  {
   "cell_type": "markdown",
   "metadata": {
    "slideshow": {
     "slide_type": "fragment"
    }
   },
   "source": [
    "- multi-lingual cells using cell \"magics\""
   ]
  },
  {
   "cell_type": "markdown",
   "metadata": {
    "slideshow": {
     "slide_type": "fragment"
    }
   },
   "source": [
    "- can be exported to:\n",
    " - PDF\n",
    " - HTML\n",
    " - Markdown\n",
    " - slides "
   ]
  },
  {
   "cell_type": "markdown",
   "metadata": {
    "slideshow": {
     "slide_type": "fragment"
    }
   },
   "source": [
    "- multiple editors (Jupyter Notebook, JupyterLab, VSCode, Spyder, PyCharm, ...)"
   ]
  },
  {
   "cell_type": "markdown",
   "metadata": {
    "slideshow": {
     "slide_type": "fragment"
    }
   },
   "source": [
    "- widgets: ipywidgets (both interactive and standalone), Voilà (dashboard server)"
   ]
  },
  {
   "cell_type": "markdown",
   "metadata": {
    "slideshow": {
     "slide_type": "subslide"
    }
   },
   "source": [
    "### Other notebooks solutions"
   ]
  },
  {
   "cell_type": "markdown",
   "metadata": {
    "slideshow": {
     "slide_type": "fragment"
    }
   },
   "source": [
    "- Netflix PolyNote: inspired by Jupyter, multi-lingual by default"
   ]
  },
  {
   "cell_type": "markdown",
   "metadata": {
    "slideshow": {
     "slide_type": "fragment"
    }
   },
   "source": [
    "- Jupyter-based\n",
    "  - Google Colab,\n",
    "  - JetBrains Datalore,\n",
    "  - Microsoft Azure Notebooks,\n",
    "  - CoCalc  "
   ]
  },
  {
   "cell_type": "markdown",
   "metadata": {
    "slideshow": {
     "slide_type": "fragment"
    }
   },
   "source": [
    "- Mathematica (Wolfram) Notebooks: predecessor of Jupyter"
   ]
  },
  {
   "cell_type": "markdown",
   "metadata": {
    "slideshow": {
     "slide_type": "slide"
    }
   },
   "source": [
    "## Short tour of notebooks features\n",
    "\n",
    "- For Jupyter notebook: [Examples_Jupyter_notebook.ipynb](https://mybinder.org/v2/gh/krassowski/computational-notebooks-for-biomedical-research/master?urlpath=lab/tree/Examples_Jupyter_notebook.ipynb)\n",
    "- For R Markdown: [Examples_R_Markdown.Rmd](https://mybinder.org/v2/gh/krassowski/computational-notebooks-for-biomedical-research/master?urlpath=rstudio)"
   ]
  },
  {
   "cell_type": "markdown",
   "metadata": {
    "slideshow": {
     "slide_type": "slide"
    }
   },
   "source": [
    "## Resources\n",
    "\n",
    "- writing reproducible papers using R Markdown: [resulumit.com/blog/rmd-workshop](https://resulumit.com/blog/rmd-workshop/)\n",
    "- reproducible research with Jupyter: [reproducible-science-curriculum.github.io/workshop-RR-Jupyter](https://reproducible-science-curriculum.github.io/workshop-RR-Jupyter/)"
   ]
  },
  {
   "cell_type": "markdown",
   "metadata": {
    "slideshow": {
     "slide_type": "slide"
    }
   },
   "source": [
    "## Searching for a balance\n",
    "\n",
    "How to make analysis:\n",
    "\n",
    "- easy to write\n",
    "- easy to read"
   ]
  },
  {
   "cell_type": "markdown",
   "metadata": {
    "slideshow": {
     "slide_type": "fragment"
    }
   },
   "source": [
    "What do you find more challenging:\n",
    "\n",
    "- writing your own code\n",
    "- reading code written by someone else\n",
    "- reading your own code\n",
    "- reading your own code from three years ago"
   ]
  },
  {
   "cell_type": "markdown",
   "metadata": {
    "slideshow": {
     "slide_type": "slide"
    }
   },
   "source": [
    "## Balancing challenges in scientific research\n",
    "\n",
    "How to keep the project:"
   ]
  },
  {
   "cell_type": "markdown",
   "metadata": {
    "slideshow": {
     "slide_type": "fragment"
    }
   },
   "source": [
    "- easy to maintain?"
   ]
  },
  {
   "cell_type": "markdown",
   "metadata": {
    "slideshow": {
     "slide_type": "fragment"
    }
   },
   "source": [
    "- easy to understand?"
   ]
  },
  {
   "cell_type": "markdown",
   "metadata": {
    "slideshow": {
     "slide_type": "fragment"
    }
   },
   "source": [
    "- easy to reproduce?"
   ]
  },
  {
   "cell_type": "markdown",
   "metadata": {
    "slideshow": {
     "slide_type": "fragment"
    }
   },
   "source": [
    "- on track to meet the deadlines?"
   ]
  },
  {
   "cell_type": "markdown",
   "metadata": {
    "slideshow": {
     "slide_type": "slide"
    }
   },
   "source": [
    "## Applications of notebooks\n",
    "\n",
    "Created for:"
   ]
  },
  {
   "cell_type": "markdown",
   "metadata": {
    "slideshow": {
     "slide_type": "fragment"
    }
   },
   "source": [
    " - <i class=\"fas fa-search\"></i> exploration "
   ]
  },
  {
   "cell_type": "markdown",
   "metadata": {
    "slideshow": {
     "slide_type": "fragment"
    }
   },
   "source": [
    " - <i class=\"fas fa-book\"></i> story telling "
   ]
  },
  {
   "cell_type": "markdown",
   "metadata": {
    "slideshow": {
     "slide_type": "fragment"
    }
   },
   "source": [
    "Also applicable for:"
   ]
  },
  {
   "cell_type": "markdown",
   "metadata": {
    "slideshow": {
     "slide_type": "fragment"
    }
   },
   "source": [
    "- writing reproducible manuscripts (some journals are evaluating accepting notebooks!)"
   ]
  },
  {
   "cell_type": "markdown",
   "metadata": {
    "slideshow": {
     "slide_type": "fragment"
    }
   },
   "source": [
    "- creating interactive dashboards:\n",
    "  - [Shiny](https://shiny.rstudio.com/articles/interactive-docs.html) with [flexdashboard](https://rmarkdown.rstudio.com/flexdashboard/):\n",
    "    - Shiny dashboards can be also created without notebooks\n",
    "    - see gallery in the flexdashboard link\n",
    "  - [Voilà](https://blog.jupyter.org/and-voil%C3%A0-f6a2c08a4a93):\n",
    "    - [gallery](https://voila-gallery.org/) (see Visum-Clustergrammer2)"
   ]
  },
  {
   "cell_type": "markdown",
   "metadata": {
    "slideshow": {
     "slide_type": "fragment"
    }
   },
   "source": [
    "- batch-generating reports from a template"
   ]
  },
  {
   "cell_type": "markdown",
   "metadata": {
    "slideshow": {
     "slide_type": "fragment"
    }
   },
   "source": [
    "- assigning homework and grading coursework: [nbgrader](https://nbgrader.readthedocs.io/en/stable/)"
   ]
  },
  {
   "cell_type": "markdown",
   "metadata": {
    "slideshow": {
     "slide_type": "slide"
    }
   },
   "source": [
    "## Notebooks replicability and biomedical research"
   ]
  },
  {
   "cell_type": "markdown",
   "metadata": {
    "slideshow": {
     "slide_type": "fragment"
    }
   },
   "source": [
    "### FDA Title 21 CFR Part 11"
   ]
  },
  {
   "cell_type": "markdown",
   "metadata": {
    "slideshow": {
     "slide_type": "fragment"
    }
   },
   "source": [
    "- standards required from groups submitting applications to FDA"
   ]
  },
  {
   "cell_type": "markdown",
   "metadata": {
    "slideshow": {
     "slide_type": "fragment"
    }
   },
   "source": [
    "- includes: validation, audit trial (detailed history, timestamps), record retention\n",
    " - good audit trial = records every step of the analyst in a tamper-resistant way"
   ]
  },
  {
   "cell_type": "markdown",
   "metadata": {
    "slideshow": {
     "slide_type": "fragment"
    }
   },
   "source": [
    "- you are likely not bound by it"
   ]
  },
  {
   "cell_type": "markdown",
   "metadata": {
    "slideshow": {
     "slide_type": "fragment"
    }
   },
   "source": [
    "- commercial software DOES offer 21 CFR compliant Audit Trial support\n",
    " - e.g. SIMCA for metabolomics analyses"
   ]
  },
  {
   "cell_type": "markdown",
   "metadata": {
    "slideshow": {
     "slide_type": "slide"
    }
   },
   "source": [
    "### Computational notebooks are not 21 CFR compliant *by default*"
   ]
  },
  {
   "cell_type": "markdown",
   "metadata": {
    "slideshow": {
     "slide_type": "fragment"
    }
   },
   "source": [
    "- You can execute code cells in any order"
   ]
  },
  {
   "cell_type": "markdown",
   "metadata": {
    "slideshow": {
     "slide_type": "fragment"
    }
   },
   "source": [
    "- The history of execution (and changes) is not kept with the file"
   ]
  },
  {
   "cell_type": "markdown",
   "metadata": {
    "slideshow": {
     "slide_type": "fragment"
    }
   },
   "source": [
    "- R Markdown enforces correctness of code before export"
   ]
  },
  {
   "cell_type": "markdown",
   "metadata": {
    "slideshow": {
     "slide_type": "fragment"
    }
   },
   "source": [
    "- Jupyter notebooks can be exported in any state"
   ]
  },
  {
   "cell_type": "markdown",
   "metadata": {
    "slideshow": {
     "slide_type": "fragment"
    }
   },
   "source": [
    "- Jupyter notebooks assume you are a responsible person, you need to act like one"
   ]
  },
  {
   "cell_type": "markdown",
   "metadata": {
    "slideshow": {
     "slide_type": "fragment"
    }
   },
   "source": [
    "- You still can use:\n",
    "  - extensions to add timestamps\n",
    "  - continuous integration to re-run your notebooks every time\n",
    "  - a notebooks platform build with replicability as a main goal\n",
    "  - linters, tests and diffs to prevent mistakes in the first place"
   ]
  },
  {
   "cell_type": "markdown",
   "metadata": {
    "slideshow": {
     "slide_type": "fragment"
    }
   },
   "source": [
    "**While common notebooks tools are not designed for reproducible research, it is easy to make your own notebooks replicable.**"
   ]
  },
  {
   "cell_type": "markdown",
   "metadata": {
    "slideshow": {
     "slide_type": "fragment"
    }
   },
   "source": [
    "For example, when using R Markdown, it is a good practice to write out the entire session information at the very end of the document. You can do that calling `sessionInfo()`."
   ]
  },
  {
   "cell_type": "markdown",
   "metadata": {
    "slideshow": {
     "slide_type": "slide"
    }
   },
   "source": [
    "### General FDA notes\n",
    "- at current only for-profit companies developing closed-source proprietary software invest in full FDA compliance (e.g. SAS)"
   ]
  },
  {
   "cell_type": "markdown",
   "metadata": {
    "slideshow": {
     "slide_type": "fragment"
    }
   },
   "source": [
    "- validation issues somewhat addressed in:\n",
    "   - a huge progress on the R core in May 2018, see: [Regulatory Compliance and Validation Issues: A Guidance Document for the Use of R in Regulated Clinical Trial Environments](https://www.r-project.org/doc/R-FDA.pdf)\n",
    "     - only core + some chosen packages\n",
    "     - CRAN \n",
    "     - tidyverse? maybe in the future\n",
    "   - RStudio has a largely similar document: [RStudio: Regulatory Compliance and Validation Issues](https://rstudio.com/wp-content/uploads/2014/06/RStudio-Commercial-IDE-Validation.pdf)   "
   ]
  },
  {
   "cell_type": "markdown",
   "metadata": {
    "slideshow": {
     "slide_type": "fragment"
    }
   },
   "source": [
    "- audit trial:\n",
    "\n",
    "> R is not intended to create, maintain, modify or delete Part 11 relevant records but to perform calculations and draw graphics.\n",
    ">\n",
    "> Where R’s use may be interpreted as creating records, however, R can support audit trail creation within the record\n",
    ">\n",
    "> R includes `date()`, `Sys.time()`, `Sys.Date()` and `Sys.timezone()` functions  which  enable users to include date and time stamps on report, graphical and other output, thus enabling the use of this information in the tracking of user sessions.\n",
    "\n",
    "- Any Jupyter extension that you use which will be automatically and reliably adding timestamps could be better than that!"
   ]
  },
  {
   "cell_type": "markdown",
   "metadata": {
    "slideshow": {
     "slide_type": "slide"
    }
   },
   "source": [
    "## Advice on working with notebooks"
   ]
  },
  {
   "cell_type": "markdown",
   "metadata": {
    "slideshow": {
     "slide_type": "fragment"
    }
   },
   "source": [
    "- start a notebook by defining its scope with:\n",
    "   - a description (what is this notebook doing?)\n",
    "   - list of aims (what are deliverables? any questions to be answered?)\n",
    "   - (optional) list of non-aims (if needed to distinguish similar notebooks with otherwise overlapping scope)"
   ]
  },
  {
   "cell_type": "markdown",
   "metadata": {
    "slideshow": {
     "slide_type": "fragment"
    }
   },
   "source": [
    "- separate data preparation, data exploration and the final analyses notebooks"
   ]
  },
  {
   "cell_type": "markdown",
   "metadata": {
    "slideshow": {
     "slide_type": "fragment"
    }
   },
   "source": [
    "- DRY: if you find yourself writing the same code at the beginning of each notebook:\n",
    "   - create a file with the repetitive setup commands\n",
    "   - execute it in the first cell of every notebook:\n",
    "     - for Jupyter notebook: `%run notebook_setup.ipynb`\n",
    "     - for R Markdown: `source('init.R')`"
   ]
  },
  {
   "cell_type": "markdown",
   "metadata": {
    "slideshow": {
     "slide_type": "slide"
    }
   },
   "source": [
    "## Three tools that may help you"
   ]
  },
  {
   "cell_type": "markdown",
   "metadata": {
    "slideshow": {
     "slide_type": "fragment"
    }
   },
   "source": [
    "1. Tests/assertions\n",
    "2. Linters/spellcheckers\n",
    "3. Diffs"
   ]
  },
  {
   "cell_type": "markdown",
   "metadata": {
    "slideshow": {
     "slide_type": "slide"
    }
   },
   "source": [
    "### 1. Tests/assertions"
   ]
  },
  {
   "cell_type": "markdown",
   "metadata": {
    "slideshow": {
     "slide_type": "fragment"
    }
   },
   "source": [
    " - check if the code performs as you would expect\n",
    " - different from validation: works as expected + expectations are correct (a task for an entire team!)\n",
    " - at minimum, prevents breaking the properly functioning code when trying to *improve* it\n",
    "\n",
    "↓"
   ]
  },
  {
   "cell_type": "markdown",
   "metadata": {
    "slideshow": {
     "slide_type": "subslide"
    }
   },
   "source": [
    "#### Tests\n",
    "\n",
    "- keep in separate files (e.g. see [pytest](https://docs.pytest.org/en/stable/) for Python and [testhat](https://testthat.r-lib.org/) for R)\n",
    "- test the code"
   ]
  },
  {
   "cell_type": "code",
   "execution_count": 27,
   "metadata": {
    "slideshow": {
     "slide_type": "fragment"
    }
   },
   "outputs": [],
   "source": [
    "def divide(a, b):\n",
    "    try:\n",
    "        return a / b\n",
    "    except ZeroDivisionError:\n",
    "        return 'Warning: division by zero'"
   ]
  },
  {
   "cell_type": "code",
   "execution_count": 28,
   "metadata": {
    "slideshow": {
     "slide_type": "fragment"
    }
   },
   "outputs": [],
   "source": [
    "def test_divide():\n",
    "    assert divide(1, 2) == 0.5\n",
    "    assert divide(10, 2) == 5\n",
    "\n",
    "\n",
    "test_divide()"
   ]
  },
  {
   "cell_type": "code",
   "execution_count": 29,
   "metadata": {
    "slideshow": {
     "slide_type": "fragment"
    }
   },
   "outputs": [],
   "source": [
    "assert divide(1, 0) == 'Warning: division by zero'"
   ]
  },
  {
   "cell_type": "markdown",
   "metadata": {
    "slideshow": {
     "slide_type": "subslide"
    }
   },
   "source": [
    "#### Assertions\n",
    "- include in notebooks\n",
    "- verify the data:\n",
    "    - sanity checks, e.g. `assert all(patients.age > 0)`\n",
    "      - protects you in case if the data changes in an unexpected way\n",
    "      - gives the reader a signal that the frame patients has a column \"age\"\n",
    "    - assumption checks (for statistical models, or to prevent duplicate index entries in pandas)\n",
    "    - unique values check e.g. `assert set(patients.smoker) == {'Yes', 'No', 'Unknown'}`\n",
    "      - a weak assumption which should also hold if new data points are added"
   ]
  },
  {
   "cell_type": "code",
   "execution_count": 109,
   "metadata": {
    "slideshow": {
     "slide_type": "fragment"
    }
   },
   "outputs": [],
   "source": [
    "from pandas import Series\n",
    "\n",
    "age = Series([1, 4, 2, 3])"
   ]
  },
  {
   "cell_type": "code",
   "execution_count": 31,
   "metadata": {
    "slideshow": {
     "slide_type": "fragment"
    }
   },
   "outputs": [],
   "source": [
    "assert all(age > 0)"
   ]
  },
  {
   "cell_type": "markdown",
   "metadata": {
    "slideshow": {
     "slide_type": "slide"
    }
   },
   "source": [
    "### 2. Linters and spellcheckers"
   ]
  },
  {
   "cell_type": "markdown",
   "metadata": {
    "slideshow": {
     "slide_type": "fragment"
    }
   },
   "source": [
    "- check the code as you write it\n",
    "- can only catch some obvious mistakes and typos (syntax errors)\n",
    "- often can teach you good *style* (i.e. the conventions adopted by other language users)"
   ]
  },
  {
   "cell_type": "markdown",
   "metadata": {
    "slideshow": {
     "slide_type": "fragment"
    }
   },
   "source": [
    "![lsp](https://raw.githubusercontent.com/krassowski/jupyterlab-lsp/master/examples/screenshots/panel.png)"
   ]
  },
  {
   "cell_type": "markdown",
   "metadata": {
    "slideshow": {
     "slide_type": "slide"
    }
   },
   "source": [
    "### Python\n",
    "\n",
    "General:\n",
    "- fun fact: `import this`\n",
    "- PEP8, flake8, pycodestyle, mypy....\n",
    "- mypy: static type checking"
   ]
  },
  {
   "cell_type": "markdown",
   "metadata": {
    "slideshow": {
     "slide_type": "fragment"
    }
   },
   "source": [
    "In Jupyter notebooks:\n",
    "- early days (extension required)\n",
    "- [jupyterlab-lsp](https://github.com/krassowski/jupyterlab-lsp) with [pyls](https://github.com/palantir/python-language-server)"
   ]
  },
  {
   "cell_type": "markdown",
   "metadata": {
    "slideshow": {
     "slide_type": "slide"
    }
   },
   "source": [
    "### R"
   ]
  },
  {
   "cell_type": "markdown",
   "metadata": {
    "slideshow": {
     "slide_type": "fragment"
    }
   },
   "source": [
    "In R Notebooks:\n",
    "- by default in RStudio\n",
    "- [styleR](https://github.com/r-lib/styler)"
   ]
  },
  {
   "cell_type": "markdown",
   "metadata": {
    "slideshow": {
     "slide_type": "fragment"
    }
   },
   "source": [
    "In Jupyter notebooks:\n",
    "- early days...\n",
    "- [jupyterlab-lsp](https://github.com/krassowski/jupyterlab-lsp) with R [languageserver](https://github.com/REditorSupport/languageserver)"
   ]
  },
  {
   "cell_type": "markdown",
   "metadata": {
    "slideshow": {
     "slide_type": "slide"
    }
   },
   "source": [
    "### 3. Diffs"
   ]
  },
  {
   "cell_type": "markdown",
   "metadata": {
    "slideshow": {
     "slide_type": "fragment"
    }
   },
   "source": [
    "- git is more then a back-up solution\n",
    "- comparing changes in code between every version is a standard practices\n",
    "- what about comparing notebooks? how do you diff them?\n",
    "   - R markdown: just git diff\n",
    "   - Jupyter: [nbdime](https://nbdime.readthedocs.io/en/latest/), [jupyterlab-git](https://github.com/jupyterlab/jupyterlab-git)   "
   ]
  },
  {
   "cell_type": "markdown",
   "metadata": {
    "slideshow": {
     "slide_type": "subslide"
    }
   },
   "source": [
    "![test](https://github.com/jupyterlab/jupyterlab-git/raw/master/docs/figs/preview.gif)"
   ]
  },
  {
   "cell_type": "markdown",
   "metadata": {
    "slideshow": {
     "slide_type": "slide"
    }
   },
   "source": [
    "### Many more tools at your disposal"
   ]
  },
  {
   "cell_type": "markdown",
   "metadata": {
    "slideshow": {
     "slide_type": "fragment"
    }
   },
   "source": [
    "> The three alone will not make your code perfect, but it's a good step forward"
   ]
  },
  {
   "cell_type": "markdown",
   "metadata": {
    "slideshow": {
     "slide_type": "fragment"
    }
   },
   "source": [
    "Getting your code towards perfection:\n",
    "- thoughtful design of interfaces,\n",
    "- domain-specific knowledge of the actual science (your code may be working as expected, but what if the expectations were wrong?)\n",
    "- in-depth and easy to understand (e.g. hierarchical) documentation"
   ]
  },
  {
   "cell_type": "markdown",
   "metadata": {
    "slideshow": {
     "slide_type": "slide"
    }
   },
   "source": [
    "## Publishing notebooks"
   ]
  },
  {
   "cell_type": "markdown",
   "metadata": {
    "slideshow": {
     "slide_type": "fragment"
    }
   },
   "source": [
    "Interactive (runnable):\n",
    "- Binder: [mybinder.org](https://mybinder.org/)\n",
    "- ShinyApps [shinyapps.io](https://www.shinyapps.io/)\n",
    "- voila-gallery: [voila-gallery](https://github.com/voila-gallery/voila-gallery.github.io#contributing-new-examples)"
   ]
  },
  {
   "cell_type": "markdown",
   "metadata": {
    "slideshow": {
     "slide_type": "fragment"
    }
   },
   "source": [
    "Static (non-executable):\n",
    "- nbviewer: [nbviewer.jupyter.org](https://nbviewer.jupyter.org/)\n",
    "- GitHub\n",
    "- Rpubs.com"
   ]
  },
  {
   "cell_type": "markdown",
   "metadata": {
    "slideshow": {
     "slide_type": "slide"
    }
   },
   "source": [
    "## Embracing extensions/add-ons"
   ]
  },
  {
   "cell_type": "markdown",
   "metadata": {},
   "source": [
    "- Jupyter Notebook\n",
    "  - many [useful extensions](https://jupyter-contrib-nbextensions.readthedocs.io/en/latest/nbextensions.html)\n",
    "  - deprecated, use JupyterLab"
   ]
  },
  {
   "cell_type": "markdown",
   "metadata": {
    "slideshow": {
     "slide_type": "fragment"
    }
   },
   "source": [
    "- JupyterLab\n",
    "   - see this [introduction](https://jupyterlab.readthedocs.io/en/stable/user/extensions.html)\n",
    "   - version 2.0 often requires installation of both a Python extension package and the extension itself\n",
    "      - mostly resolved in JupyterLab 3.0\n",
    "   - browse extensions:\n",
    "     - by [popularity on GitHub](https://github.com/topics/jupyterlab-extension) (noisy)\n",
    "     - by [pictures](https://github.com/Yogayu/awesome-jupyterlab-extension) (curated list, outdated)\n",
    "     - by [topic](https://github.com/mauhai/awesome-jupyterlab) (curated list)"
   ]
  },
  {
   "cell_type": "markdown",
   "metadata": {
    "slideshow": {
     "slide_type": "fragment"
    }
   },
   "source": [
    "- RStudio\n",
    "  - not specific to notebooks, but to the IDE; see [introduction](https://rstudio.github.io/rstudioaddins/)\n",
    "  - browser the [list of add-ins](https://cran.r-project.org/web/packages/addinslist/readme/README.html)"
   ]
  }
 ],
 "metadata": {
  "kernelspec": {
   "display_name": "Python 3",
   "language": "python",
   "name": "python3"
  },
  "language_info": {
   "codemirror_mode": {
    "name": "ipython",
    "version": 3
   },
   "file_extension": ".py",
   "mimetype": "text/x-python",
   "name": "python",
   "nbconvert_exporter": "python",
   "pygments_lexer": "ipython3",
   "version": "3.8.1"
  },
  "widgets": {
   "application/vnd.jupyter.widget-state+json": {
    "state": {},
    "version_major": 2,
    "version_minor": 0
   }
  }
 },
 "nbformat": 4,
 "nbformat_minor": 4
}
