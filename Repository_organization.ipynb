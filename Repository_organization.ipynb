{
 "cells": [
  {
   "cell_type": "markdown",
   "metadata": {
    "slideshow": {
     "slide_type": "slide"
    }
   },
   "source": [
    "## How to organise large project? How to keep it reproducible?\n",
    "\n",
    "- Order of notebooks execution matters:\n",
    "  - for small projects prefixing notebook names with a digit is great\n",
    "     - `01_Clean_data.ipynb`\n",
    "     - `02_Explore_covariates.ipynb`\n",
    "     - `03_Survival_analysis.ipynb`\n",
    "     - having multiple steps at a single level is fine, just document the convention in the README\n",
    "       - `03_Survival_analysis.ipynb`\n",
    "       - `03_Secondary_outcomes.ipynb`\n",
    "  - for medium-size projects:\n",
    "     - hierarchical directories\n",
    "  - for large projects:\n",
    "     - automated execution of all notebooks\n",
    "     - maintain an ordered list of notebooks to run, or\n",
    "     - infer the order based on the inputs and output files"
   ]
  },
  {
   "cell_type": "markdown",
   "metadata": {
    "slideshow": {
     "slide_type": "slide"
    }
   },
   "source": [
    "## Example of a medium-sized project\n",
    "\n",
    "![](media/example_project.png)"
   ]
  },
  {
   "cell_type": "markdown",
   "metadata": {
    "slideshow": {
     "slide_type": "slide"
    }
   },
   "source": [
    "## Automated execution of large projects\n",
    "\n",
    "Recommendation (my way):\n",
    "\n",
    "1. Use input/output system for data. Examples for Python:\n",
    "  - [scrapbook](https://github.com/nteract/scrapbook)\n",
    "  - [data-vault](https://github.com/krassowski/data-vault)\n",
    "2. Analyse notebooks for syntax loading/saving the input/output\n",
    "3. Create directed acyclic graph to run notebooks in the optimal order\n",
    "4. Automate notebooks execution in an separate environment\n",
    "5. Compare the resulting notebooks with your current ones to catch reproducibility issues\n",
    "\n",
    "Relatively easy to create using `papermill` to run Jupyter notebooks."
   ]
  },
  {
   "cell_type": "markdown",
   "metadata": {
    "slideshow": {
     "slide_type": "subslide"
    }
   },
   "source": [
    "### Example implementation\n",
    "\n",
    "[nbpipeline](https://github.com/krassowski/nbpipeline) + [data-vault](https://github.com/krassowski/data-vault)"
   ]
  },
  {
   "cell_type": "markdown",
   "metadata": {
    "slideshow": {
     "slide_type": "subslide"
    }
   },
   "source": [
    "![](media/nbpipeline_example_interactive_result.png)"
   ]
  },
  {
   "cell_type": "markdown",
   "metadata": {
    "slideshow": {
     "slide_type": "subslide"
    }
   },
   "source": [
    "![](media/nbpipeline_example_diff.png)"
   ]
  },
  {
   "cell_type": "markdown",
   "metadata": {},
   "source": [
    "## Where to put things?"
   ]
  },
  {
   "cell_type": "markdown",
   "metadata": {
    "slideshow": {
     "slide_type": "subslide"
    }
   },
   "source": [
    "#### Data in tabular format"
   ]
  },
  {
   "cell_type": "markdown",
   "metadata": {
    "slideshow": {
     "slide_type": "fragment"
    }
   },
   "source": [
    "- changes are easier to track (even on GitHub)"
   ]
  },
  {
   "cell_type": "markdown",
   "metadata": {
    "slideshow": {
     "slide_type": "fragment"
    }
   },
   "source": [
    "- easy to analyse in a different program"
   ]
  },
  {
   "cell_type": "markdown",
   "metadata": {
    "slideshow": {
     "slide_type": "fragment"
    }
   },
   "source": [
    "- try adopting CSV/TSV files to:\n",
    "  - discourage color coding (difficult to work with and error-prone)\n",
    "  - encourage one <s>table</s> file = one <s>relation</s> piece of data rule\n",
    "  - avoid common date/time issues and issues with gene/metabolite names"
   ]
  },
  {
   "cell_type": "markdown",
   "metadata": {
    "slideshow": {
     "slide_type": "slide"
    }
   },
   "source": [
    "#### Code in dedicated files"
   ]
  },
  {
   "cell_type": "markdown",
   "metadata": {
    "slideshow": {
     "slide_type": "fragment"
    }
   },
   "source": [
    "- easy to write unit tests for"
   ]
  },
  {
   "cell_type": "markdown",
   "metadata": {
    "slideshow": {
     "slide_type": "fragment"
    }
   },
   "source": [
    "- easy to reuse for other projects"
   ]
  },
  {
   "cell_type": "markdown",
   "metadata": {
    "slideshow": {
     "slide_type": "fragment"
    }
   },
   "source": [
    "- which encourages proper documentation"
   ]
  },
  {
   "cell_type": "markdown",
   "metadata": {
    "slideshow": {
     "slide_type": "fragment"
    }
   },
   "source": [
    "- can be edited in any editor, including the best industry standard (e.g. PyCharm for Python)"
   ]
  },
  {
   "cell_type": "markdown",
   "metadata": {
    "slideshow": {
     "slide_type": "fragment"
    }
   },
   "source": [
    "- separates implementation details from the critical research \"flow\""
   ]
  },
  {
   "cell_type": "markdown",
   "metadata": {
    "slideshow": {
     "slide_type": "fragment"
    }
   },
   "source": [
    "- a slide with example coming..."
   ]
  },
  {
   "cell_type": "markdown",
   "metadata": {
    "slideshow": {
     "slide_type": "slide"
    }
   },
   "source": [
    "#### Videos and images in a separate media folder"
   ]
  },
  {
   "cell_type": "markdown",
   "metadata": {
    "slideshow": {
     "slide_type": "fragment"
    }
   },
   "source": [
    "- easier to access from other software"
   ]
  },
  {
   "cell_type": "markdown",
   "metadata": {
    "slideshow": {
     "slide_type": "fragment"
    }
   },
   "source": [
    "- dedicated tools for comparing images (diffs)"
   ]
  },
  {
   "cell_type": "markdown",
   "metadata": {
    "slideshow": {
     "slide_type": "fragment"
    }
   },
   "source": [
    "- faster load time of notebooks (on your computer and online)"
   ]
  }
 ],
 "metadata": {
  "kernelspec": {
   "display_name": "Python 3",
   "language": "python",
   "name": "python3"
  },
  "language_info": {
   "codemirror_mode": {
    "name": "ipython",
    "version": 3
   },
   "file_extension": ".py",
   "mimetype": "text/x-python",
   "name": "python",
   "nbconvert_exporter": "python",
   "pygments_lexer": "ipython3",
   "version": "3.8.1"
  }
 },
 "nbformat": 4,
 "nbformat_minor": 4
}
