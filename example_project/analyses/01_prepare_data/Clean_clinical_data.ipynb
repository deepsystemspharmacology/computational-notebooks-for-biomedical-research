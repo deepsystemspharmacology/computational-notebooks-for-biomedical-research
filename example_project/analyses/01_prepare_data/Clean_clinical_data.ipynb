{
 "cells": [
  {
   "cell_type": "markdown",
   "metadata": {},
   "source": [
    "**Description**: Clean the clinical data from nurses\n",
    "\n",
    "**Aims**:\n",
    "\n",
    "Export long-format data frames with:\n",
    " - patient demographics\n",
    " - patient medications use\n",
    " - subject-sample mapping"
   ]
  }
 ],
 "metadata": {
  "kernelspec": {
   "display_name": "Python 3",
   "language": "python",
   "name": "python3"
  },
  "language_info": {
   "codemirror_mode": {
    "name": "ipython",
    "version": 3
   },
   "file_extension": ".py",
   "mimetype": "text/x-python",
   "name": "python",
   "nbconvert_exporter": "python",
   "pygments_lexer": "ipython3",
   "version": "3.8.1"
  }
 },
 "nbformat": 4,
 "nbformat_minor": 4
}
